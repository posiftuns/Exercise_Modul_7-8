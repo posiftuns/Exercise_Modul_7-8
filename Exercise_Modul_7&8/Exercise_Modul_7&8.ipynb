{
 "cells": [
  {
   "cell_type": "markdown",
   "metadata": {},
   "source": [
    "***\n",
    "<h1 align=\"center\">Exercise 7</h1>\n",
    " \n",
    "***"
   ]
  },
  {
   "cell_type": "markdown",
   "metadata": {},
   "source": [
    "Nama&nbsp;&nbsp;: ... <br>\n",
    "NIM&emsp;&nbsp;: ...<br>\n",
    "Kelas&nbsp;&nbsp;&nbsp;: ..."
   ]
  },
  {
   "cell_type": "markdown",
   "metadata": {},
   "source": [
    "## Mengerjakan Exercise\n",
    " Pengerjaan *exercise* dapat dilakukan dengan memperhatikan petunjuk dan catatan yang sudah diberikan. Dimohon untuk membaca dan memperhatikan setiap langkah dan materi pada *exercise* supaya materi pembelajaran dapat dipahami secara maksimal.\n",
    "\n",
    "Selamat mengerjakan!"
   ]
  },
  {
   "cell_type": "markdown",
   "metadata": {},
   "source": [
    "## File"
   ]
  },
  {
   "cell_type": "markdown",
   "metadata": {},
   "source": [
    "#### **Objek File**"
   ]
  },
  {
   "cell_type": "markdown",
   "metadata": {},
   "source": [
    "Python sudah menyediakan fungsi `.open()` untuk membaca dan menulis file. Fungsi tersebut memiliki 2 parameter, yaitu `nama file` dan `mode`.<br>\n",
    "Mode `\"r\"` digunakan untuk membaca file.<br><br>\n",
    "Berikut contoh format penulisan objek file:"
   ]
  },
  {
   "cell_type": "code",
   "execution_count": 125,
   "metadata": {},
   "outputs": [],
   "source": [
    "file = open(\"puisi.txt\", \"r\")\n",
    "\n",
    "# file = variabel objek file\n",
    "# puisi.txt = parameter nama file\n",
    "# r = parameter mode"
   ]
  },
  {
   "cell_type": "markdown",
   "metadata": {},
   "source": [
    "Namun, apabila terletak di direktori (folder) yang berbeda, maka kita harus memberikan alamat *path* file-nya."
   ]
  },
  {
   "cell_type": "code",
   "execution_count": 126,
   "metadata": {},
   "outputs": [],
   "source": [
    "# Lengkapi parameter nama file \n",
    "\n",
    "obj_file = open(\".../puisi.txt\", \"r\") "
   ]
  },
  {
   "cell_type": "markdown",
   "metadata": {},
   "source": [
    "#### **Readlines**"
   ]
  },
  {
   "cell_type": "markdown",
   "metadata": {},
   "source": [
    "Berikut merupakan contoh perintah menampilkan file dengan menggunakan `readlines`. Perintah akan menampilkan file dengan format `list`"
   ]
  },
  {
   "cell_type": "code",
   "execution_count": 127,
   "metadata": {},
   "outputs": [
    {
     "name": "stdout",
     "output_type": "stream",
     "text": [
      "['Demi masa..\\n', 'Sesungguhnya manusia benar-benar berada dalam kerugian...\\n', 'Kecuali, orang-orang yang beriman dan bermal saleh, dan saling menasihati untuk kebenaran dan kesabaran...']\n"
     ]
    }
   ],
   "source": [
    "# membuka file\n",
    "file_biodata = open(\"puisi.txt\",\"r\")\n",
    "# membaca isi file\n",
    "print(file_biodata.readlines())\n",
    "# menutup file\n",
    "file_biodata.close()"
   ]
  },
  {
   "cell_type": "markdown",
   "metadata": {},
   "source": [
    "Sekarang kalian coba buat perintah untuk menampilkan file `biodata.txt` pada folder `data` menggunakan `readlines` dengan melengkapi *syntax* pada *cell code* di bawah ini."
   ]
  },
  {
   "cell_type": "code",
   "execution_count": 128,
   "metadata": {},
   "outputs": [
    {
     "name": "stdout",
     "output_type": "stream",
     "text": [
      "['Nama: Wakhid\\n', 'Umur: 20\\n', 'Kota: Solo']\n"
     ]
    }
   ],
   "source": [
    "# Lengkapi syntax di bawah ini\n",
    "\n",
    "# membuka file\n",
    "file_biodata = ...\n",
    "# membaca isi file\n",
    "print(...)\n",
    "# menutup file\n",
    "file_biodata.close()\n",
    "\n",
    "# Output yang diharapkan : ['Nama: Wakhid\\n', 'Umur: 20\\n', 'Kota: Solo']"
   ]
  },
  {
   "cell_type": "markdown",
   "metadata": {},
   "source": [
    "#### **Read**"
   ]
  },
  {
   "cell_type": "markdown",
   "metadata": {},
   "source": [
    "Berikut merupakan contoh perintah menampilkan file dengan menggunakan `read`. Perintah akan menampilkan file dengan format `text`"
   ]
  },
  {
   "cell_type": "code",
   "execution_count": 129,
   "metadata": {},
   "outputs": [
    {
     "name": "stdout",
     "output_type": "stream",
     "text": [
      "Demi masa..\n",
      "Sesungguhnya manusia benar-benar berada dalam kerugian...\n",
      "Kecuali, orang-orang yang beriman dan bermal saleh, dan saling menasihati untuk kebenaran dan kesabaran...\n"
     ]
    }
   ],
   "source": [
    "# membuka file\n",
    "file_biodata = open(\"puisi.txt\",\"r\")\n",
    "# membaca isi file\n",
    "print(file_biodata.read())\n",
    "# menutup file\n",
    "file_biodata.close()"
   ]
  },
  {
   "cell_type": "markdown",
   "metadata": {},
   "source": [
    "Sekarang kalian coba buat perintah untuk menampilkan file `biodata.txt` pada folder `data` menggunakan `read` dengan melengkapi *syntax* pada *cell code* di bawah ini."
   ]
  },
  {
   "cell_type": "code",
   "execution_count": 130,
   "metadata": {},
   "outputs": [
    {
     "name": "stdout",
     "output_type": "stream",
     "text": [
      "Nama: Wakhid\n",
      "Umur: 20\n",
      "Kota: Solo\n"
     ]
    }
   ],
   "source": [
    "# Lengkapi syntax di bawah ini\n",
    "\n",
    "# membuka file\n",
    "file_biodata = ...\n",
    "# membaca isi file\n",
    "print(...)\n",
    "# menutup file\n",
    "file_biodata.close()\n",
    "\n",
    "# Output yang diharapkan : \n",
    "# Nama: Wakhid\n",
    "# Umur: 20\n",
    "# Kota: Solo"
   ]
  },
  {
   "cell_type": "markdown",
   "metadata": {},
   "source": [
    "#### **Write**"
   ]
  },
  {
   "cell_type": "markdown",
   "metadata": {},
   "source": [
    "Untuk menulis file, kita menggunakan metode `.write()`. Dengan metode ini, kita dapat menulis teks tertentu ke dalam file.<br>\n",
    "Mode `\"w\"` digunakan untuk menulis file baru. Apabila file sudah ada, maka file tersebut akan di-*replace* dengan yang baru ditulis.<br><br>\n",
    "Sekarang kalian coba buat perintah untuk menuliskan file `biodata_2.txt` pada folder `data` dengan melengkapi *syntax* pada *cell code* di bawah ini.<br><br>"
   ]
  },
  {
   "cell_type": "code",
   "execution_count": 131,
   "metadata": {},
   "outputs": [
    {
     "name": "stdout",
     "output_type": "stream",
     "text": [
      "Selamat Datang di Program Biodata\n",
      "---------------------------------\n",
      "Data anda berhasil ditulis\n"
     ]
    }
   ],
   "source": [
    "# Lengkapi syntax di bawah ini\n",
    "\n",
    "print(\"Selamat Datang di Program Biodata\")\n",
    "print(\"---------------------------------\")\n",
    "\n",
    "# Mengambil input dari user\n",
    "nama = input(\"Nama: \") # Nama panggilan kalian \n",
    "umur = input(\"Umur: \") # Umur kalian\n",
    "kota = input(\"Kota: \") # Kota asal kalian\n",
    "\n",
    "# Format teks\n",
    "teks = \"Nama: {}\\nUmur: {}\\nKota: {}\".format(... , ... , ...)\n",
    "\n",
    "# Buka file untuk ditulis\n",
    "file_biodata = ...\n",
    "\n",
    "# Menulis teks ke file\n",
    "...\n",
    "\n",
    "# Menutup file\n",
    "file_biodata.close()\n",
    "\n",
    "print(\"Data anda berhasil ditulis\")"
   ]
  },
  {
   "cell_type": "markdown",
   "metadata": {},
   "source": [
    "Kalian bisa cek hasilnya dengan `read` untuk melihat hasilnya. Seharusnya, output pada file `biodata_2.txt` sudah ter-*update* dengan input yang kalian berikan."
   ]
  },
  {
   "cell_type": "code",
   "execution_count": 132,
   "metadata": {},
   "outputs": [
    {
     "name": "stdout",
     "output_type": "stream",
     "text": [
      "Nama: Bagus\n",
      "Umur: 20\n",
      "Kota: Boyolali\n"
     ]
    }
   ],
   "source": [
    "file_biodata = open(\"data/biodata_2.txt\")\n",
    "print(file_biodata.read())\n",
    "file_biodata.close()"
   ]
  },
  {
   "cell_type": "markdown",
   "metadata": {},
   "source": [
    "#### **Append**"
   ]
  },
  {
   "cell_type": "markdown",
   "metadata": {},
   "source": [
    "Pada *append*, kita juga menggunakan metode `.write()`.<br>\n",
    "Mode `\"a\"` digunakan untuk menambah data ke file. Artinya, apabila sudah ada data dalam file, maka akan ditambah tanpa *replace*.<br><br>\n",
    "Sekarang kalian coba buat perintah untuk menambahkan data pada file `biodata_2.txt` pada folder `data` dengan melengkapi *syntax* pada *cell code* di bawah ini.<br><br>"
   ]
  },
  {
   "cell_type": "code",
   "execution_count": 133,
   "metadata": {},
   "outputs": [
    {
     "name": "stdout",
     "output_type": "stream",
     "text": [
      "Selamat Datang di Program Biodata\n",
      "---------------------------------\n",
      "Data anda berhasil ditulis\n"
     ]
    }
   ],
   "source": [
    "# Lengkapi syntax di bawah ini\n",
    "\n",
    "print(\"Selamat Datang di Program Biodata\")\n",
    "print(\"---------------------------------\")\n",
    "\n",
    "# Mengambil input dari user\n",
    "angkatan = input(\"Angkatan: \") # Angkatan kalian \n",
    "hobi = input(\"Hobi: \") # Hobi kalian\n",
    "\n",
    "# Format teks\n",
    "teks = \"\\nAngkatan: {}\\nHobi: {}\".format(... , ...)\n",
    "\n",
    "# Buka file untuk ditulis\n",
    "file_biodata = ...\n",
    "\n",
    "# Menulis teks ke file\n",
    "...\n",
    "\n",
    "# Menutup file\n",
    "file_biodata.close()\n",
    "\n",
    "print(\"Data anda berhasil ditulis\")"
   ]
  },
  {
   "cell_type": "markdown",
   "metadata": {},
   "source": [
    "Kalian bisa cek hasilnya dengan `read` untuk melihat hasilnya. Seharusnya, output pada file `biodata_2.txt` sudah ter-*update* dengan input yang kalian berikan."
   ]
  },
  {
   "cell_type": "code",
   "execution_count": 134,
   "metadata": {},
   "outputs": [
    {
     "name": "stdout",
     "output_type": "stream",
     "text": [
      "Nama: Bagus\n",
      "Umur: 20\n",
      "Kota: Boyolali\n",
      "Angkatan: 21\n",
      "Hobi: Makan\n"
     ]
    }
   ],
   "source": [
    "file_biodata = open(\"data/biodata_2.txt\")\n",
    "print(file_biodata.read())\n",
    "file_biodata.close()"
   ]
  },
  {
   "cell_type": "markdown",
   "metadata": {},
   "source": [
    "## Directory"
   ]
  },
  {
   "cell_type": "markdown",
   "metadata": {},
   "source": [
    "#### **Membuat Directory**"
   ]
  },
  {
   "cell_type": "markdown",
   "metadata": {},
   "source": [
    "Dalam python, pembuatan direktori baru dilakukan dengan fungsi `.mkdir()`. Jika nama folder sudah ada, maka akan terjadi error.<br>\n",
    "Bentuk umum penggunaan : `os.mkdir(\"nama_direktori\")`\n",
    "<br><br>Coba lengkapi *syntax* pada *cell code* di bawah ini."
   ]
  },
  {
   "cell_type": "code",
   "execution_count": 135,
   "metadata": {},
   "outputs": [],
   "source": [
    "# Lengkapi syntax di bawah ini\n",
    "\n",
    "import os\n",
    "\n",
    "def main():\n",
    "    ... # Nama folder boleh bebas\n",
    "\n",
    "ifname:\"main\"\n",
    "main()"
   ]
  },
  {
   "cell_type": "markdown",
   "metadata": {},
   "source": [
    "Kalian bisa cek dengan melihat folder *exercise* kalian. Apabila sudah terdapat nama folder yang kalian buat, maka penambahan direktori sudah berhasil."
   ]
  },
  {
   "cell_type": "markdown",
   "metadata": {},
   "source": [
    "#### **Merubah Nama Directory**"
   ]
  },
  {
   "cell_type": "markdown",
   "metadata": {},
   "source": [
    "Untuk mengubah nama direktori, kita perlu menggunakan fungsi `.rename()` sama seperti pada saat kita mengubah nama file.<br>\n",
    "Bentuk umum penggunaan : `os.rename(\"nama_direktori_lama\",\"nama_direktori_baru\")`\n",
    "<br><br>Coba lengkapi *syntax* pada *cell code* di bawah ini."
   ]
  },
  {
   "cell_type": "code",
   "execution_count": 137,
   "metadata": {},
   "outputs": [],
   "source": [
    "# Lengkapi syntax di bawah ini\n",
    "\n",
    "import os\n",
    "\n",
    "def main():\n",
    "    ... # Ganti nama folder yang kalian buat - nama folder boleh bebas\n",
    "\n",
    "ifname:\"main\"\n",
    "main()"
   ]
  },
  {
   "cell_type": "markdown",
   "metadata": {},
   "source": [
    "Kalian bisa cek dengan melihat folder *exercise* kalian. Apabila nama folder sudah terganti, maka *rename* direktori sudah berhasil."
   ]
  },
  {
   "cell_type": "markdown",
   "metadata": {},
   "source": [
    "#### **Menghapus Direktori**"
   ]
  },
  {
   "cell_type": "markdown",
   "metadata": {},
   "source": [
    "Untuk mengubah nama direktori, kita perlu menggunakan fungsi `.rmdir()`. Jika nama folder yang ingin dihapus tidak ada, maka akan terjadi error.<br>\n",
    "Bentuk umum penggunaan : `os.rmdir(\"nama_direktori\")`\n",
    "<br><br>Coba lengkapi *syntax* pada *cell code* di bawah ini."
   ]
  },
  {
   "cell_type": "code",
   "execution_count": 139,
   "metadata": {},
   "outputs": [],
   "source": [
    "# Lengkapi syntax di bawah ini\n",
    "\n",
    "import os\n",
    "\n",
    "def main():\n",
    "    ... # Hapus folder yang kalian sudah buat\n",
    "\n",
    "ifname:\"main\"\n",
    "main()"
   ]
  },
  {
   "cell_type": "markdown",
   "metadata": {},
   "source": [
    "Kalian bisa cek dengan melihat folder *exercise* kalian. Apabila nama folder sudah hilang, maka *remove* direktori sudah berhasil."
   ]
  },
  {
   "cell_type": "markdown",
   "metadata": {},
   "source": [
    "## Modul pada Python"
   ]
  },
  {
   "cell_type": "markdown",
   "metadata": {},
   "source": [
    "**Modul** pada python adalah sebuah file berekstensi `.py` yang berisi skrip python baik itu _fungsi_, _class_, mau pun _variabel_. Nama dari modul adalah nama dari file itu sendiri. Misal kita memiliki file bernama `luas.py`, maka kita telah membuat sebuah modul bernama `luas`."
   ]
  },
  {
   "cell_type": "markdown",
   "metadata": {},
   "source": [
    "Mari membuat program menggunakan file `matematika.py` sebagai modul di bawah ini.<br>\n",
    "- **Download File**<br>\n",
    "- [matematika.py](https://drive.google.com/file/d/1h7scntxpKrL8CpxJOY945Yt7xscVk7j6/view?usp=sharing)\n",
    "- Simpan file tersebut di folder yang sama dengan file exercise ini."
   ]
  },
  {
   "cell_type": "markdown",
   "metadata": {},
   "source": [
    "### Perintah **import (Modul)**"
   ]
  },
  {
   "cell_type": "markdown",
   "metadata": {},
   "source": [
    "Selanjutnya, mari membuat program untuk memanggil modul `matematika` pada baris kode di bawah ini."
   ]
  },
  {
   "cell_type": "code",
   "execution_count": null,
   "metadata": {},
   "outputs": [],
   "source": [
    "#Memanggil modul matematika\n",
    "import ... #Lengkapi bagian kosong (...) dengan nama modul.\n",
    "\n",
    "print(\"PI:\", ....pi) #Lengkapi bagian kosong (...) dengan nama modul.\n",
    "print(....luas_lingkaran(radius=21)) #Lengkapi bagian kosong (...) dengan nama modul.\n",
    "print(....luas_persegi(sisi=12)) #Lengkapi bagian kosong (...) dengan nama modul.\n",
    "\n",
    "#Output yang diharapkan\n",
    "#PI: 3.142857142857143\n",
    "#1386.0\n",
    "#144"
   ]
  },
  {
   "cell_type": "markdown",
   "metadata": {},
   "source": [
    "Pada kode program di atas, kita telah memanggil modul `matematika` dengan perintah: **import (modul)** yang akan membuat kita memiliki akses terhadap modul tersebut dan apa yang ada di dalamnya."
   ]
  },
  {
   "cell_type": "markdown",
   "metadata": {},
   "source": [
    "### Perintah **From ... import (Modul)**"
   ]
  },
  {
   "cell_type": "markdown",
   "metadata": {},
   "source": [
    "Berikutnya, bagaimana jika hanya ingin mengimpor item-item tertentu?<br>\n",
    "Mari membuat program yang akan memanggil _fungsi_ pada modul `matematika`"
   ]
  },
  {
   "cell_type": "code",
   "execution_count": null,
   "metadata": {},
   "outputs": [],
   "source": [
    "#Memanggil Modul dan Item Fungsi Tertentu\n",
    "from matematika import ... #Lengkapi bagian kosong (...) dengan nama fungsi pada modul matematika.\n",
    "\n",
    "print(...(20)) #Lengkapi bagian kosong (...) dengan nama fungsi yang tepat.\n",
    "print(...(10)) #Lengkapi bagian kosong (...) dengan nama fungsi yang tepat.\n",
    "\n",
    "#Output yang diharapkan\n",
    "#400\n",
    "#314.2857142857143"
   ]
  },
  {
   "cell_type": "markdown",
   "metadata": {},
   "source": [
    "### Nama Alias/Nama Lain (Modul)"
   ]
  },
  {
   "cell_type": "markdown",
   "metadata": {},
   "source": [
    "Lalu, jika ingin mengimpor modul yang memiliki judul yang panjang atau \n",
    "sulit dibaca, anda dapat membuat alias atau nama lain dari modul tersebut.<br>\n",
    "```python:\n",
    "import NamaModul as NamaAlias\n",
    "```\n",
    "Mari membuat program menggunakan `as` untuk memanggil modul `matematika` pada baris kode di bawah ini."
   ]
  },
  {
   "cell_type": "code",
   "execution_count": null,
   "metadata": {},
   "outputs": [],
   "source": [
    "#Memanggil Modul\n",
    "import matematika as ...\n",
    "\n",
    "print(\"PI:\", ...) #Lengkapi bagian kosong (...) dengan kode yang tepat.\n",
    "print(...) #Lengkapi bagian kosong (...) dengan kode yang tepat.\n",
    "print(...) #Lengkapi bagian kosong (...) dengan kode yang tepat.\n"
   ]
  },
  {
   "cell_type": "markdown",
   "metadata": {},
   "source": [
    "## Paket pada Python"
   ]
  },
  {
   "cell_type": "markdown",
   "metadata": {},
   "source": [
    "**Paket(packages)** pada python adalah direktori biasa, yang di dalamnya terdapat modul-modul python.<br>\n",
    "Di dalam direktori tersebut, harus ada satu file bernama `__init__.py` yang memberitahukan interpreter bahwa direktori tersebut adalah paket yang berisi modul-modul.<br>\n",
    "<br>Berikut merupakan format umum dalam memanggil paket.<br>\n",
    "```python:\n",
    "import NamaPaket.NamaModul\n",
    "```"
   ]
  },
  {
   "cell_type": "markdown",
   "metadata": {},
   "source": [
    "Berikut langkah-langkah yang diperlukan untuk membuat suatu paket di dalam python.<br>\n",
    "1. Buat subdirektori di dalam direktori kerja anda dengan nama `paket_matematika`.\n",
    "2. Pindahkan (move) file `matematika.py` ke dalam subdirektori baru tersebut.\n",
    "3. Buatlah file baru dengan nama `__init__.py` dan simpan ditempat yang sama \n",
    "dengan file `matematika.py`.\n",
    "4. Isikan kode berikut ke dalam file `__init__.py`:\n",
    "```python:\n",
    "from.import matematika\n",
    "```"
   ]
  },
  {
   "cell_type": "markdown",
   "metadata": {},
   "source": [
    "Mari membuat program menggunakan paket `paket_matematika` pada baris kode di bawah ini."
   ]
  },
  {
   "cell_type": "code",
   "execution_count": null,
   "metadata": {},
   "outputs": [],
   "source": [
    "#Memanggil Paket\n",
    "import ... #Lengkapi bagian kosong (...) dengan kode yang tepat.\n",
    "\n",
    "def main():\n",
    "    print(\"PI:\", ....pi) #Lengkapi bagian kosong (...) dengan kode yang tepat.\n",
    "    print(....luas_lingkaran(radius=21)) #Lengkapi bagian kosong (...) dengan kode yang tepat.\n",
    "    print(....luas_persegi(sisi=12)) #Lengkapi bagian kosong (...) dengan kode yang tepat.\n",
    "\n",
    "if __name__ == \"__main__\":\n",
    "    main()"
   ]
  },
  {
   "cell_type": "markdown",
   "metadata": {},
   "source": [
    "***\n",
    "<h1 align=\"center\">Exercise 8</h1>\n",
    " \n",
    "***"
   ]
  },
  {
   "cell_type": "markdown",
   "metadata": {},
   "source": [
    "Nama&nbsp;&nbsp;: ... <br>\n",
    "NIM&emsp;&nbsp;: ...<br>\n",
    "Kelas&nbsp;&nbsp;&nbsp;: ..."
   ]
  },
  {
   "cell_type": "markdown",
   "metadata": {},
   "source": [
    "## Mengerjakan Exercise\n",
    "Sebagian besar file pengerjaan *exercise* berbentuk **Jupyter Notebook** yang berformat **.ipynb**. Pengerjaan *exercise* dapat dilakukan dengan memperhatikan petunjuk dan catatan yang sudah diberikan. Dimohon untuk membaca dan memperhatikan setiap langkah dan materi pada *exercise* supaya materi pembelajaran dapat dipahami secara maksimal.\n",
    "\n",
    "Selamat mengerjakan!"
   ]
  },
  {
   "cell_type": "markdown",
   "metadata": {},
   "source": [
    "## Jenis- Jenis *Error*\n"
   ]
  },
  {
   "cell_type": "markdown",
   "metadata": {},
   "source": [
    "##### *Syntax Error*"
   ]
  },
  {
   "cell_type": "markdown",
   "metadata": {},
   "source": [
    "***Syntax error*** merupakan kesalahan yang diakibatkan *programmer* yang salah mengetikkan atau salah menggunakan tata bahasa atau aturan penulisan dari bahasa pemrograman yang digunakan. Hal ini umum dialami oleh *programmer* karena ***syntax error*** bisa timbul akibat *typo* ketika *programmer* mengetikkan *script* kodenya. Berikut ini adalah beberapa contoh kode yang mengalami ***syntax error***."
   ]
  },
  {
   "cell_type": "code",
   "execution_count": null,
   "metadata": {},
   "outputs": [
    {
     "ename": "SyntaxError",
     "evalue": "unterminated string literal (detected at line 2) (1212908950.py, line 2)",
     "output_type": "error",
     "traceback": [
      "\u001b[1;36m  Cell \u001b[1;32mIn[6], line 2\u001b[1;36m\u001b[0m\n",
      "\u001b[1;33m    print(\"Hello, World!')\u001b[0m\n",
      "\u001b[1;37m          ^\u001b[0m\n",
      "\u001b[1;31mSyntaxError\u001b[0m\u001b[1;31m:\u001b[0m unterminated string literal (detected at line 2)\n"
     ]
    }
   ],
   "source": [
    "# CONTOH 1\n",
    "print(\"Hello, World!')"
   ]
  },
  {
   "cell_type": "code",
   "execution_count": null,
   "metadata": {},
   "outputs": [
    {
     "ename": "SyntaxError",
     "evalue": "expected ':' (1548006949.py, line 2)",
     "output_type": "error",
     "traceback": [
      "\u001b[1;36m  Cell \u001b[1;32mIn[7], line 2\u001b[1;36m\u001b[0m\n",
      "\u001b[1;33m    def function(x,y)\u001b[0m\n",
      "\u001b[1;37m                     ^\u001b[0m\n",
      "\u001b[1;31mSyntaxError\u001b[0m\u001b[1;31m:\u001b[0m expected ':'\n"
     ]
    }
   ],
   "source": [
    "# CONTOH 2\n",
    "def function(x,y)\n",
    "    z = x*y\n",
    "    return z\n",
    "\n",
    "first_num = 2\n",
    "second_num = 5\n",
    "\n",
    "function(first_num, second_num)"
   ]
  },
  {
   "cell_type": "markdown",
   "metadata": {},
   "source": [
    "Berdasarkan kedua kode di atas, apa yang menyebabkan kode-kode tersebut mengalami ***syntax error***?"
   ]
  },
  {
   "cell_type": "markdown",
   "metadata": {},
   "source": [
    "Jawab:\n",
    "1. Program pertama mengalami error karena ....\n",
    "2. Program kedua mengalami error karena ..."
   ]
  },
  {
   "cell_type": "markdown",
   "metadata": {},
   "source": [
    "##### *Runtime Error*"
   ]
  },
  {
   "cell_type": "markdown",
   "metadata": {},
   "source": [
    "***Runtime error*** merupakan kesalahan yang diakibatkan adanya kesalahan ketika program dijalankan. ***Runtime error*** sering juga disebut dengan ***bugs***. Berikut ini adalah contoh kode yang mengalami ***runtime error***."
   ]
  },
  {
   "cell_type": "code",
   "execution_count": null,
   "metadata": {},
   "outputs": [
    {
     "ename": "NameError",
     "evalue": "name 'text' is not defined",
     "output_type": "error",
     "traceback": [
      "\u001b[1;31m---------------------------------------------------------------------------\u001b[0m\n",
      "\u001b[1;31mNameError\u001b[0m                                 Traceback (most recent call last)\n",
      "Cell \u001b[1;32mIn[2], line 1\u001b[0m\n",
      "\u001b[1;32m----> 1\u001b[0m \u001b[38;5;28mprint\u001b[39m(\u001b[43mtext\u001b[49m)\n",
      "\n",
      "\u001b[1;31mNameError\u001b[0m: name 'text' is not defined"
     ]
    }
   ],
   "source": [
    "# CONTOH\n",
    "print(text)"
   ]
  },
  {
   "cell_type": "markdown",
   "metadata": {},
   "source": [
    "##### *Logical Error*"
   ]
  },
  {
   "cell_type": "markdown",
   "metadata": {},
   "source": [
    "***Logical error*** merupakan kesalahan yang paling susah diatasi karena ***logical error*** tidak dapat ditemukan secara langsung seperti jenis-jenis *error* sebelumnya. ***Logical error*** merupakan kesalahan logika pada desain program yang dibuat. Program dengan ***logical error*** mungkin saja dapat dijalankan dan memberikan *output*, tetapi *output* yang dikeluarkan bisa jadi akibat kesalahan logika atau desain program yang dibuat tanpa diketahui oleh programmer itu sendiri. Berikut adalah contoh program yang mengalami ***logical error***."
   ]
  },
  {
   "cell_type": "code",
   "execution_count": 1,
   "metadata": {},
   "outputs": [
    {
     "name": "stdout",
     "output_type": "stream",
     "text": [
      "27 adalah angka prima\n"
     ]
    }
   ],
   "source": [
    "#CONTOH\n",
    "x = 27\n",
    "\n",
    "if x % 2 == 0:\n",
    "    print(f\"{x} bukanlah angka prima\")\n",
    "else:\n",
    "    print(f\"{x} adalah angka prima\")"
   ]
  },
  {
   "cell_type": "markdown",
   "metadata": {},
   "source": [
    "Program di atas merupakan program yang dapat mendeteksi apakah bilangan dalam variabel `x` merupakan bilangan prima atau bukan. Program tersebut dapat dijalankan dan mengeluarkan sebuah *output*, tetapi alur logika program tersebut masih kurang tepat."
   ]
  },
  {
   "cell_type": "markdown",
   "metadata": {},
   "source": [
    "Untuk itu, buatlah modifikasi dari program tersebut yang sesuai dengan apa yang diinginkan, yaitu mampu mengetahui variabel `x` merupakan bilangan prima atau bukan!"
   ]
  },
  {
   "cell_type": "code",
   "execution_count": null,
   "metadata": {},
   "outputs": [],
   "source": [
    "# TULISKAN JAWABAN KALIAN DI SINI\n",
    "\n",
    "..."
   ]
  },
  {
   "cell_type": "markdown",
   "metadata": {},
   "source": [
    "Jika sudah mengetahui jenis-jenis ***error***, sekarang kita bisa mulai mempelajari cara menyelesaikan ***error*** atau ***bugs***. Proses menanggulangi ***error*** dapat disebut ***debugging***. Proses ***debugging*** terdapat beberapa cara tergantung jenis ***error*** dan desain program kita. Seorang *programmer* bisa menghilangkan ***error*** dengan memperbaiki kode yang mereka tulis atau membuat *script* untuk ***exception***."
   ]
  },
  {
   "cell_type": "markdown",
   "metadata": {},
   "source": [
    "## *Exception Handling*\n"
   ]
  },
  {
   "cell_type": "markdown",
   "metadata": {},
   "source": [
    "Dalam bahasa mudahnya, ***exception*** merupakan *feedback* yang diberikan oleh komputer berupa pemberitahuan adanya kesalahan yang terjadi pada program tersebut ketika program selesai dijalankan atau dapat dikatakan bahwa ***exception*** muncul akibat adanya ***runtime error***. ***Runtime error*** tidak selamanya diakibatkan oleh kesalahan alur logika programmer dalam menyusun kode programnya, tetapi bisa diakibatkan adanya perbedaan situasi atau skenario ketika program itu dijalankan oleh penggunanya. Memperbaiki *script* program belum cukup dan belum tentu dapat menyelesaikan masalah tersebut. Oleh karena itu, dibutuhkan pengetahuan terhadap ***exception handling***."
   ]
  },
  {
   "cell_type": "markdown",
   "metadata": {},
   "source": [
    "Bagaimana *syntax* untuk ***exception handling***? \n",
    "\n",
    "*Keyword* yang digunakan dalam membuat ***exception handling*** adalah:\n",
    "- `Try`, tempat menuliskan kode yang akan diperiksa dan ditangani jika terdapat *error*,\n",
    "- `Except`, tempat menuliskan kode yang akan dijalankan sesuai jenis *error* yang ditemukan,\n",
    "- `Else`, tempat menuliskan kode yang akan dijalankan jika tidak terdapat *error*,\n",
    "- `Finally`, tempat menuliskan kode yang akan dijalankan tanpa didasari ada atau tidak adanya *error*"
   ]
  },
  {
   "cell_type": "markdown",
   "metadata": {},
   "source": [
    "Sebelum kita mencoba membuat contoh program ***exception handling***, coba kita jalankan program di bawah ini terlebih dahulu."
   ]
  },
  {
   "cell_type": "code",
   "execution_count": 2,
   "metadata": {},
   "outputs": [
    {
     "ename": "NameError",
     "evalue": "name 'var' is not defined",
     "output_type": "error",
     "traceback": [
      "\u001b[1;31m---------------------------------------------------------------------------\u001b[0m",
      "\u001b[1;31mNameError\u001b[0m                                 Traceback (most recent call last)",
      "Cell \u001b[1;32mIn[2], line 2\u001b[0m\n\u001b[0;32m      1\u001b[0m \u001b[38;5;66;03m# JALANKAN PROGRAM DI BAWAH INI\u001b[39;00m\n\u001b[1;32m----> 2\u001b[0m \u001b[38;5;28mprint\u001b[39m(\u001b[43mvar\u001b[49m)\n",
      "\u001b[1;31mNameError\u001b[0m: name 'var' is not defined"
     ]
    }
   ],
   "source": [
    "# JALANKAN PROGRAM DI BAWAH INI\n",
    "print(var)"
   ]
  },
  {
   "cell_type": "markdown",
   "metadata": {},
   "source": [
    "Berdasarkan hasil *running* program tersebut, jawablah pertanyaan berikut ini:\n",
    "1. Apa ***exception*** yang muncul setelah program tersebut dijalankan?\n",
    "2. Apa yang menyebabkan kode tersebut mengalami *error*?"
   ]
  },
  {
   "cell_type": "markdown",
   "metadata": {},
   "source": [
    "Jawaban:\n",
    "1. ...\n",
    "2. ..."
   ]
  },
  {
   "cell_type": "markdown",
   "metadata": {},
   "source": [
    "Setelah kalian menjawab pertanyaan tersebut, selanjutnya kalian dapat mempelajari contoh penggunaan ***exception handling*** di Python."
   ]
  },
  {
   "cell_type": "markdown",
   "metadata": {},
   "source": [
    "##### *Try... Except...*"
   ]
  },
  {
   "cell_type": "markdown",
   "metadata": {},
   "source": [
    "Penulisan kode untuk ***exception handling*** memiliki konsep yang mirip seperti penulisan pengondisian dengan `if` *statement*. ***Exception handling*** paling sederhana menggunakan *keyword* `try` dan `except`. Kita coba terapkan konsep ***exception handling*** pada kode sebelumnya."
   ]
  },
  {
   "cell_type": "code",
   "execution_count": 3,
   "metadata": {},
   "outputs": [
    {
     "name": "stdout",
     "output_type": "stream",
     "text": [
      "Ada kesalahan\n"
     ]
    }
   ],
   "source": [
    "# JALANKAN PROGRAM DI BAWAH INI\n",
    "try:\n",
    "    print(var)\n",
    "except:\n",
    "    print(\"Ada kesalahan\")"
   ]
  },
  {
   "cell_type": "markdown",
   "metadata": {},
   "source": [
    "Ketika program tersebut dijalankan, program memberikan *output* yaitu kalimat \"Ada kesalahan\". Hal tersebut terjadi karena ketika kode program pada blok `try` dijalankan, komputer menemukan sebuah ***runtime error*** sehingga kode pada blok `except` dijalankan. "
   ]
  },
  {
   "cell_type": "markdown",
   "metadata": {},
   "source": [
    "Pada program sebelumnya, *error* yang ditangani tidak spesifik pada suatu jenis *error*. Bagaimana cara supaya kita dapat membuat ***exception handling*** yang spesifik pada suatu jenis *error*?\n",
    "\n",
    "Berikut ini adalah contoh *script* untuk ***exception handling*** yang spesifik pada suatu jenis *error*."
   ]
  },
  {
   "cell_type": "code",
   "execution_count": 4,
   "metadata": {},
   "outputs": [
    {
     "name": "stdout",
     "output_type": "stream",
     "text": [
      "Variabel tidak ditemukan\n"
     ]
    }
   ],
   "source": [
    "# JALANKAN PROGRAM DI BAWAH INI\n",
    "try:\n",
    "    print(var)\n",
    "except NameError:\n",
    "    print(\"Variabel tidak ditemukan\")\n",
    "except:\n",
    "    print(\"Terdapat kesalahan lain\")"
   ]
  },
  {
   "cell_type": "markdown",
   "metadata": {},
   "source": [
    "Pada kode program di atas, terdapat blok kode `except` yang spesifik untuk suatu jenis *error*, yaitu `NameError`. Jika kode pada blok `try` dijalankan dan komputer memberikan *eksepsi* `NameError`, kode blok `except NameError` akan dijalankan."
   ]
  },
  {
   "cell_type": "markdown",
   "metadata": {},
   "source": [
    "Jika kita ingin menangani beberapa jenis *error* dengan cara yang sama, kalian bisa menambahkan jenis-jenis *error* lainnya dengan menjabarkannya menggunakan format ` except (exception1, exception2, ...):` seperti pada kode berikut ini."
   ]
  },
  {
   "cell_type": "code",
   "execution_count": null,
   "metadata": {},
   "outputs": [],
   "source": [
    "# JALANKAN PROGRAM DI BAWAH INI\n",
    "try:\n",
    "    print(var)\n",
    "except (NameError, ValueError):\n",
    "    print(\"Terdapat kesalahan pada nilai variabel\")\n",
    "except:\n",
    "    print(\"Terdapat kesalahan lain\")"
   ]
  },
  {
   "cell_type": "markdown",
   "metadata": {},
   "source": [
    "Jika kalian ingin mengetahui apa saja jenis *error* yang terdapat pada Python, kalian bisa mengunjungi laman pada [link ini](https://docs.python.org/3/library/exceptions.html#concrete-exceptions)."
   ]
  },
  {
   "cell_type": "markdown",
   "metadata": {},
   "source": [
    "##### *Try... Except... Else...*"
   ]
  },
  {
   "cell_type": "markdown",
   "metadata": {},
   "source": [
    "Perhatikan dan jalankan kode program di bawah ini."
   ]
  },
  {
   "cell_type": "code",
   "execution_count": null,
   "metadata": {},
   "outputs": [],
   "source": [
    "# JALANKAN PROGRAM DI BAWAH INI\n",
    "try:\n",
    "    angka = int(input(\"Tuliskan sebuah angka: \"))\n",
    "except ValueError:\n",
    "    print(\"Angka tidak valid\")\n",
    "except:\n",
    "    print(\"Terjadi kesalahan lain\")\n",
    "else:\n",
    "    print(\"Angka Anda:\", angka)"
   ]
  },
  {
   "cell_type": "markdown",
   "metadata": {},
   "source": [
    "*Keyword* `else` di ***exception handling*** berbeda dengan `else` yang digunakan pada `if` *statement*. Di ***exception handling***, blok kode yang dituliskan pada blok `else` akan dijalankan jika kode yang ditinjau ***tidak*** mengalami *error*. Kalian bisa mencoba program tersebut dan mengetahui perbedaan ***output*** yang diberikan jika ditemukan *error* atau tidak ditemukan *error*."
   ]
  },
  {
   "cell_type": "markdown",
   "metadata": {},
   "source": [
    "##### *Try... Except... Else... Finally...*"
   ]
  },
  {
   "cell_type": "markdown",
   "metadata": {},
   "source": [
    "Perhatikan dan jalankan kode program di bawah ini."
   ]
  },
  {
   "cell_type": "code",
   "execution_count": null,
   "metadata": {},
   "outputs": [],
   "source": [
    "# JALANKAN PROGRAM DI BAWAH INI\n",
    "try:\n",
    "    angka = int(input(\"Tuliskan sebuah angka: \"))\n",
    "except ValueError:\n",
    "    print(\"Angka tidak valid\")\n",
    "except:\n",
    "    print(\"Terjadi kesalahan lain\")\n",
    "else:\n",
    "    print(\"Angka Anda:\", angka)\n",
    "finally:\n",
    "    print(\"Program selesai\")"
   ]
  },
  {
   "cell_type": "markdown",
   "metadata": {},
   "source": [
    "Blok kode yang dituliskan pada blok `finally` akan ***selalu*** dijalankan tanpa didasari ada atau tidaknya *error* pada program setelah dijalankan."
   ]
  },
  {
   "cell_type": "markdown",
   "metadata": {},
   "source": [
    "Kita sudah mempelajari bagaimana seorang *programmer* dapat melakukan ***exception handling***. Akan tetapi, sebenarnya ***programmer*** bisa memanggil ***exception**** secara **sengaja** berdasarkan situasi dan desain program yang mereka buat. Umtuk itu, kita dapat mempelajari ***exception raising***."
   ]
  },
  {
   "cell_type": "markdown",
   "metadata": {},
   "source": [
    "## *Exception Raising*\n"
   ]
  },
  {
   "cell_type": "markdown",
   "metadata": {},
   "source": [
    "***Exception raising*** merupakan cara *programmer* secara sengaja membangkitkan ***exception*** berdasarkan kemungkinan skenario yang mungkin terjadi pada program yang mereka buat. Berikut adalah contoh cara kerja ***exception raising*** di Python."
   ]
  },
  {
   "cell_type": "code",
   "execution_count": null,
   "metadata": {},
   "outputs": [],
   "source": [
    "# JALANKAN PROGRAM DI BAWAH INI\n",
    "x = \"hello\"\n",
    "\n",
    "if type(x) is not int:\n",
    "  raise TypeError(\"Only integers are allowed!\")"
   ]
  },
  {
   "cell_type": "markdown",
   "metadata": {},
   "source": [
    "Di Python, ***exception raising*** dilakukan dengan menggunakan *keyword* `raise`. Dengan *keyword* `raise`, kita bisa membuat skenario tertentu dianggap oleh komputer sebagai sebuah *error*. Seperti pada program di atas, variabel `x` yang berisi kata \"hello\" pasti tidak dianggap sebuah masalah oleh komputer karena Python tidak perlu mendefiniskan tipe data dari variabel tersebut terlebih dahulu, melainkan dapat secara langsung diisi oleh tipe data apapun. Akan tetapi, kita ingin membuat variabel `x` hanya dapat menerima sebuah data `int` sehingga kita dapat membuat komputer menganggap variabel `x` dengan tipe data selain `int` adalah sebuah *error* dengan kategori `TypeError` dan memberikan *feedback* sebuah *exception* dengan pesan \"Only integers are allowed!\"."
   ]
  },
  {
   "cell_type": "markdown",
   "metadata": {},
   "source": [
    "Kapan seorang *programmer* harus membuat ***exception raising*** pada programnya? Supaya makin jelas, perhatikan contoh program di bawah ini mulai dari yang sederhana!"
   ]
  },
  {
   "cell_type": "code",
   "execution_count": null,
   "metadata": {},
   "outputs": [],
   "source": [
    "# JALANKAN PROGRAM DI BAWAH INI\n",
    "def factorial(num):\n",
    "    if num == 0:\n",
    "        value = 1\n",
    "    else:\n",
    "        iteration = num\n",
    "        value = num\n",
    "        while iteration >= 2:\n",
    "            value = value * (iteration - 1)\n",
    "            iteration = iteration - 1\n",
    "    return(value)\n",
    "\n",
    "print(factorial(6))\n",
    "print(factorial(4))\n",
    "print(factorial(-5))"
   ]
  },
  {
   "cell_type": "markdown",
   "metadata": {},
   "source": [
    "*Output* dari program di atas sudah sesuai dengan logika perhitungan faktorial. Dapat dilihat bahwa *output* dari baris kode `print(factorial(6))` dan `print(factorial(4))` sudah benar. Akan tetapi, jika *user* tidak sengaja memasukkan angka negatif pada fungsi tersebut seperti pada baris terakhir kode, program tetap menjalankan perhitungan dan mengeluarkan hasilnya. Seperti yang kita ketahui, seharusnya bilangan negatif tidak dapat dihitung faktorialnya atau dapat dikatakan ***undefined***. Untuk itu, kita dapat **membangkitkan *exception*** jika skenario tersebut terjadi. Perbaikan kode program tersebut dapat dilihat pada program di bawah ini."
   ]
  },
  {
   "cell_type": "code",
   "execution_count": null,
   "metadata": {},
   "outputs": [],
   "source": [
    "# JALANKAN PROGRAM DI BAWAH INI\n",
    "def factorial(num):\n",
    "    if num == 0:\n",
    "        value = 1\n",
    "    elif num < 0:\n",
    "        raise ValueError(f\"Input: {num}. Negative numbers are not allowed, undefined.\")\n",
    "    else:\n",
    "        iteration = num\n",
    "        value = num\n",
    "        while iteration >= 2:\n",
    "            value = value * (iteration - 1)\n",
    "            iteration = iteration - 1\n",
    "    return(value)\n",
    "\n",
    "print(factorial(6))\n",
    "print(factorial(4))\n",
    "print(factorial(-5))"
   ]
  },
  {
   "cell_type": "markdown",
   "metadata": {},
   "source": [
    "Setelah mempelajari ***exception handling*** dan ***exception raising***, kita dapat memadukan kedua hal tersebut untuk menangani berbagai permasalahan *error* yang terjadi akibat perbedaan skenario perlakuan pada program yang kita kembangkan."
   ]
  },
  {
   "cell_type": "markdown",
   "metadata": {},
   "source": [
    "***\n",
    "<h1 align=\"center\">Well Done!!!</h1> \n",
    "\n",
    "***"
   ]
  }
 ],
 "metadata": {
  "kernelspec": {
   "display_name": "Python 3",
   "language": "python",
   "name": "python3"
  },
  "language_info": {
   "codemirror_mode": {
    "name": "ipython",
    "version": 3
   },
   "file_extension": ".py",
   "mimetype": "text/x-python",
   "name": "python",
   "nbconvert_exporter": "python",
   "pygments_lexer": "ipython3",
   "version": "3.12.2"
  }
 },
 "nbformat": 4,
 "nbformat_minor": 2
}
